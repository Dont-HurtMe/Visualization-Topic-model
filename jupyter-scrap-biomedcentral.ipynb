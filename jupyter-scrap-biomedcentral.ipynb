{
 "cells": [
  {
   "cell_type": "markdown",
   "id": "6a447467-1b98-4964-b8e7-7602ffa25136",
   "metadata": {},
   "source": [
    "**source study** : https://github.com/wasit7/dsmde/blob/main/example/01_social_media.ipynb"
   ]
  },
  {
   "cell_type": "code",
   "execution_count": 176,
   "id": "c66ba8d0-471a-4829-b6f5-7c73a9064ae7",
   "metadata": {},
   "outputs": [],
   "source": [
    "import requests\n",
    "from bs4 import BeautifulSoup\n",
    "import pandas as pd\n",
    "from tqdm import tqdm\n",
    "\n",
    "def get_soup(url,pages) :\n",
    "    \n",
    "    response2 = requests.get(url)\n",
    "    soup2 = BeautifulSoup(response2.content, 'html.parser')\n",
    "    \n",
    "    try:\n",
    "        abstract = soup2.select_one('#Abs1-content').text\n",
    "        title = soup2.find('h1').text \n",
    "        names = [i['content'].replace(',','') for i in soup2.find_all('meta', {'name': 'dc.creator'})]\n",
    "        date = soup2.select_one('#main-content > main > article > div.c-article-header > ul.c-article-identifiers > li:nth-child(3) > a > time').text\n",
    "        return {'pages':pages,'title':title,'names':names[0],'date':date,'abstract':abstract,'url':url}\n",
    "    except:\n",
    "        return {'pages':pages,'title':None,'names':None,'date':None,'abstract':None,'url':url}"
   ]
  },
  {
   "cell_type": "code",
   "execution_count": 186,
   "id": "4757e7be-7f94-4c28-b398-260defd03755",
   "metadata": {
    "scrolled": true
   },
   "outputs": [
    {
     "name": "stderr",
     "output_type": "stream",
     "text": [
      "get abstract pages 1: 100%|█████████████████████████████████████████████████████| 50/50 [00:18<00:00,  2.65iteration/s]\n",
      "get abstract pages 2: 100%|█████████████████████████████████████████████████████| 50/50 [00:56<00:00,  1.12s/iteration]\n",
      "get abstract pages 3: 100%|█████████████████████████████████████████████████████| 50/50 [00:55<00:00,  1.11s/iteration]\n",
      "get abstract pages 4: 100%|█████████████████████████████████████████████████████| 50/50 [00:54<00:00,  1.09s/iteration]\n",
      "get abstract pages 5: 100%|█████████████████████████████████████████████████████| 50/50 [00:53<00:00,  1.08s/iteration]\n",
      "get abstract pages 6: 100%|█████████████████████████████████████████████████████| 50/50 [00:53<00:00,  1.07s/iteration]\n",
      "get abstract pages 7: 100%|█████████████████████████████████████████████████████| 50/50 [01:00<00:00,  1.21s/iteration]\n",
      "get abstract pages 8: 100%|█████████████████████████████████████████████████████| 50/50 [00:54<00:00,  1.09s/iteration]\n",
      "get abstract pages 9: 100%|█████████████████████████████████████████████████████| 50/50 [00:52<00:00,  1.05s/iteration]\n",
      "get abstract pages 10: 100%|████████████████████████████████████████████████████| 50/50 [00:48<00:00,  1.04iteration/s]\n",
      "get abstract pages 11: 100%|████████████████████████████████████████████████████| 50/50 [00:54<00:00,  1.09s/iteration]\n",
      "get abstract pages 12: 100%|████████████████████████████████████████████████████| 50/50 [00:53<00:00,  1.06s/iteration]\n",
      "get abstract pages 13: 100%|████████████████████████████████████████████████████| 50/50 [00:52<00:00,  1.05s/iteration]\n",
      "get abstract pages 14: 100%|████████████████████████████████████████████████████| 50/50 [00:50<00:00,  1.02s/iteration]\n",
      "get abstract pages 15: 100%|████████████████████████████████████████████████████| 50/50 [00:53<00:00,  1.08s/iteration]\n",
      "get abstract pages 16: 100%|████████████████████████████████████████████████████| 50/50 [00:52<00:00,  1.05s/iteration]\n",
      "get abstract pages 17: 100%|████████████████████████████████████████████████████| 50/50 [00:54<00:00,  1.08s/iteration]\n",
      "get abstract pages 18: 100%|████████████████████████████████████████████████████| 50/50 [00:52<00:00,  1.06s/iteration]\n",
      "get abstract pages 19: 100%|████████████████████████████████████████████████████| 50/50 [01:02<00:00,  1.25s/iteration]\n",
      "get abstract pages 20: 100%|████████████████████████████████████████████████████| 50/50 [00:57<00:00,  1.15s/iteration]\n",
      "get abstract pages 21: 100%|████████████████████████████████████████████████████| 50/50 [00:51<00:00,  1.03s/iteration]\n",
      "get abstract pages 22: 100%|████████████████████████████████████████████████████| 50/50 [00:46<00:00,  1.07iteration/s]\n",
      "get abstract pages 23: 100%|████████████████████████████████████████████████████| 50/50 [00:51<00:00,  1.04s/iteration]\n",
      "get abstract pages 24: 100%|████████████████████████████████████████████████████| 50/50 [00:52<00:00,  1.04s/iteration]\n",
      "get abstract pages 25: 100%|████████████████████████████████████████████████████| 50/50 [00:59<00:00,  1.19s/iteration]\n",
      "get abstract pages 26: 100%|████████████████████████████████████████████████████| 50/50 [00:59<00:00,  1.18s/iteration]\n",
      "get abstract pages 27: 100%|████████████████████████████████████████████████████| 50/50 [00:50<00:00,  1.00s/iteration]\n",
      "get abstract pages 28: 100%|████████████████████████████████████████████████████| 50/50 [00:48<00:00,  1.04iteration/s]\n",
      "get abstract pages 29: 100%|████████████████████████████████████████████████████| 50/50 [01:01<00:00,  1.23s/iteration]\n",
      "get abstract pages 30: 100%|████████████████████████████████████████████████████| 11/11 [00:11<00:00,  1.00s/iteration]\n"
     ]
    }
   ],
   "source": [
    "pages = 30\n",
    "dataset = []\n",
    "for i in range(1,pages+1):\n",
    "    response = requests.get(f\"https://health-policy-systems.biomedcentral.com/articles?searchType=journalSearch&sort=PubDate&page={i}\")\n",
    "    soup = BeautifulSoup(response.content, 'html.parser')\n",
    "    urls_research = [ f\"https://health-policy-systems.biomedcentral.com{i.find('a')['href']}\" for i in soup.select_one('ol.c-listing').find_all('h3')]\n",
    "    for j in tqdm(urls_research, desc=f'get abstract pages {i}', unit=\"iteration\") :\n",
    "        dataset.append(get_soup(j,i+1))"
   ]
  },
  {
   "cell_type": "code",
   "execution_count": 188,
   "id": "fc59ba2b-e7e2-4aaf-8f12-38cd434ec6d9",
   "metadata": {},
   "outputs": [
    {
     "data": {
      "text/html": [
       "<div>\n",
       "<style scoped>\n",
       "    .dataframe tbody tr th:only-of-type {\n",
       "        vertical-align: middle;\n",
       "    }\n",
       "\n",
       "    .dataframe tbody tr th {\n",
       "        vertical-align: top;\n",
       "    }\n",
       "\n",
       "    .dataframe thead th {\n",
       "        text-align: right;\n",
       "    }\n",
       "</style>\n",
       "<table border=\"1\" class=\"dataframe\">\n",
       "  <thead>\n",
       "    <tr style=\"text-align: right;\">\n",
       "      <th></th>\n",
       "      <th>pages</th>\n",
       "      <th>title</th>\n",
       "      <th>names</th>\n",
       "      <th>date</th>\n",
       "      <th>abstract</th>\n",
       "      <th>url</th>\n",
       "    </tr>\n",
       "  </thead>\n",
       "  <tbody>\n",
       "    <tr>\n",
       "      <th>0</th>\n",
       "      <td>2</td>\n",
       "      <td>Assessing unConventional Evidence (ACE) tool: ...</td>\n",
       "      <td>Lewin Simon</td>\n",
       "      <td>02 January 2024</td>\n",
       "      <td>BackgroundWhen deciding whether to implement a...</td>\n",
       "      <td>https://health-policy-systems.biomedcentral.co...</td>\n",
       "    </tr>\n",
       "    <tr>\n",
       "      <th>1</th>\n",
       "      <td>2</td>\n",
       "      <td>\"Research ends with publication\": a qualitativ...</td>\n",
       "      <td>Morankar Sudhakar</td>\n",
       "      <td>02 January 2024</td>\n",
       "      <td>BackgroundDecision-making about the design and...</td>\n",
       "      <td>https://health-policy-systems.biomedcentral.co...</td>\n",
       "    </tr>\n",
       "    <tr>\n",
       "      <th>2</th>\n",
       "      <td>2</td>\n",
       "      <td>A scoping review of the globally available too...</td>\n",
       "      <td>Mrklas Kelly J.</td>\n",
       "      <td>22 December 2023</td>\n",
       "      <td>BackgroundHealth research partnership approach...</td>\n",
       "      <td>https://health-policy-systems.biomedcentral.co...</td>\n",
       "    </tr>\n",
       "    <tr>\n",
       "      <th>3</th>\n",
       "      <td>2</td>\n",
       "      <td>Assessing the impact of an evidence- and conse...</td>\n",
       "      <td>Wabnitz Katharina</td>\n",
       "      <td>19 December 2023</td>\n",
       "      <td>IntroductionDuring the COVID-19 pandemic, deci...</td>\n",
       "      <td>https://health-policy-systems.biomedcentral.co...</td>\n",
       "    </tr>\n",
       "    <tr>\n",
       "      <th>4</th>\n",
       "      <td>2</td>\n",
       "      <td>Opportunities to improve the adoption of healt...</td>\n",
       "      <td>Larose Hugo</td>\n",
       "      <td>19 December 2023</td>\n",
       "      <td>ObjectivesPatient’s health-related quality of ...</td>\n",
       "      <td>https://health-policy-systems.biomedcentral.co...</td>\n",
       "    </tr>\n",
       "  </tbody>\n",
       "</table>\n",
       "</div>"
      ],
      "text/plain": [
       "   pages                                              title  \\\n",
       "0      2  Assessing unConventional Evidence (ACE) tool: ...   \n",
       "1      2  \"Research ends with publication\": a qualitativ...   \n",
       "2      2  A scoping review of the globally available too...   \n",
       "3      2  Assessing the impact of an evidence- and conse...   \n",
       "4      2  Opportunities to improve the adoption of healt...   \n",
       "\n",
       "               names              date  \\\n",
       "0        Lewin Simon   02 January 2024   \n",
       "1  Morankar Sudhakar   02 January 2024   \n",
       "2    Mrklas Kelly J.  22 December 2023   \n",
       "3  Wabnitz Katharina  19 December 2023   \n",
       "4        Larose Hugo  19 December 2023   \n",
       "\n",
       "                                            abstract  \\\n",
       "0  BackgroundWhen deciding whether to implement a...   \n",
       "1  BackgroundDecision-making about the design and...   \n",
       "2  BackgroundHealth research partnership approach...   \n",
       "3  IntroductionDuring the COVID-19 pandemic, deci...   \n",
       "4  ObjectivesPatient’s health-related quality of ...   \n",
       "\n",
       "                                                 url  \n",
       "0  https://health-policy-systems.biomedcentral.co...  \n",
       "1  https://health-policy-systems.biomedcentral.co...  \n",
       "2  https://health-policy-systems.biomedcentral.co...  \n",
       "3  https://health-policy-systems.biomedcentral.co...  \n",
       "4  https://health-policy-systems.biomedcentral.co...  "
      ]
     },
     "execution_count": 188,
     "metadata": {},
     "output_type": "execute_result"
    }
   ],
   "source": [
    "df = pd.DataFrame(dataset)\n",
    "df.head(5)"
   ]
  },
  {
   "cell_type": "code",
   "execution_count": 192,
   "id": "7039b8fe-f039-4a75-b89f-d60c00e75324",
   "metadata": {},
   "outputs": [],
   "source": [
    "new_pages = df['pages'] - 1"
   ]
  },
  {
   "cell_type": "code",
   "execution_count": 193,
   "id": "199a7566-158a-4c80-8837-01b8675e8209",
   "metadata": {},
   "outputs": [],
   "source": [
    "df['pages'] = new_pages"
   ]
  },
  {
   "cell_type": "code",
   "execution_count": 195,
   "id": "428122de-834c-45ae-a551-af92c2b9a6e9",
   "metadata": {},
   "outputs": [],
   "source": [
    "df.to_excel(\"../DATASET/bmc.xlsx\")  "
   ]
  }
 ],
 "metadata": {
  "kernelspec": {
   "display_name": "Python 3 (ipykernel)",
   "language": "python",
   "name": "python3"
  },
  "language_info": {
   "codemirror_mode": {
    "name": "ipython",
    "version": 3
   },
   "file_extension": ".py",
   "mimetype": "text/x-python",
   "name": "python",
   "nbconvert_exporter": "python",
   "pygments_lexer": "ipython3",
   "version": "3.10.7"
  }
 },
 "nbformat": 4,
 "nbformat_minor": 5
}
