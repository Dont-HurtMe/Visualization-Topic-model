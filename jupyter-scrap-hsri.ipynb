{
 "cells": [
  {
   "cell_type": "code",
   "execution_count": 1,
   "id": "bc6dc7c5-6f73-402a-8d8a-88978087320c",
   "metadata": {},
   "outputs": [],
   "source": [
    "import requests\n",
    "from bs4 import BeautifulSoup\n",
    "import pandas as pd\n",
    "from tqdm import tqdm\n",
    "\n",
    "def get_soup(i) : \n",
    "    \n",
    "    # Fetching the webpage\n",
    "    response = requests.get(f\"https://kb.hsri.or.th/dspace/handle/11228/{i}\")\n",
    "    soup = BeautifulSoup(response.content, 'html.parser')\n",
    "    try:\n",
    "        abstract = soup.select_one('#aspect_artifactbrowser_ItemViewer_div_item-view > div > div.row > div > div.simple-item-view-description.item-page-field-wrapper.table > div > field').text\n",
    "        title = soup.find('h3').text    \n",
    "        names = [i.text.replace('\\n', '').replace(';', '').replace('      ', '') for i in soup.select_one('div.simple-item-view-authors.item-page-field-wrapper.table').find_all('span')]\n",
    "        date = soup.select_one('#aspect_artifactbrowser_ItemViewer_div_item-view > div > div.row > div > div.simple-item-view-date.word-break.item-page-field-wrapper.table').text.replace('\\nDate:\\n                ','')\n",
    "        return {'itemset':i,'title':title,'names':names[0],'date':date,'abstract':abstract}\n",
    "    except:\n",
    "        return {'itemset':i,'title':'Blank(s)','names':'Blank(s)','date':'Blank(s)','abstract':'Blank(s)'}\n"
   ]
  },
  {
   "cell_type": "code",
   "execution_count": 4,
   "id": "1de75ed4-f668-4cc8-a66f-5f53b207fd6d",
   "metadata": {
    "scrolled": true
   },
   "outputs": [
    {
     "name": "stderr",
     "output_type": "stream",
     "text": [
      "get abstract : 100%|███████████████████████████████████████████████████████████████████| 5909/5909 [1:33:16<00:00,  1.06iteration/s]\n"
     ]
    }
   ],
   "source": [
    "start = 86\n",
    "end = 5994\n",
    "dataset = []\n",
    "for i in tqdm(range(start,end+1), desc=f'get abstract ', unit=\"iteration\") :\n",
    "    dataset.append(get_soup(i))"
   ]
  },
  {
   "cell_type": "code",
   "execution_count": 5,
   "id": "24faa50d-3ac7-4c5a-839c-482c1e623bed",
   "metadata": {},
   "outputs": [],
   "source": [
    "df = pd.DataFrame(dataset)"
   ]
  },
  {
   "cell_type": "code",
   "execution_count": null,
   "id": "833ce92f-6ece-430d-b009-5d8bc8ca085e",
   "metadata": {},
   "outputs": [],
   "source": [
    "# !pip install openpyxl"
   ]
  },
  {
   "cell_type": "code",
   "execution_count": 11,
   "id": "6fa60da0-f39c-4d16-9b15-0ecc79bb029e",
   "metadata": {},
   "outputs": [],
   "source": [
    "df.to_excel(\"../DATASET/hsri.xlsx\")  "
   ]
  }
 ],
 "metadata": {
  "kernelspec": {
   "display_name": "Python 3 (ipykernel)",
   "language": "python",
   "name": "python3"
  },
  "language_info": {
   "codemirror_mode": {
    "name": "ipython",
    "version": 3
   },
   "file_extension": ".py",
   "mimetype": "text/x-python",
   "name": "python",
   "nbconvert_exporter": "python",
   "pygments_lexer": "ipython3",
   "version": "3.10.7"
  }
 },
 "nbformat": 4,
 "nbformat_minor": 5
}
